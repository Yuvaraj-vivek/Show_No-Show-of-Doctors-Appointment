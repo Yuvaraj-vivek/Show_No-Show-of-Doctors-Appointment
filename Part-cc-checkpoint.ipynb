{
 "cells": [
  {
   "cell_type": "code",
   "execution_count": null,
   "metadata": {},
   "outputs": [],
   "source": [
    "import numpy as np\n",
    "import pandas as pd \n",
    "import sklearn\n",
    "from datetime import datetime\n",
    "import matplotlib.pyplot as plt\n",
    "import seaborn as sns\n",
    "import warnings\n",
    "warnings.filterwarnings('ignore')\n",
    "from sklearn.metrics import roc_auc_score, accuracy_score, precision_score, recall_score, f1_score, roc_curve \n",
    "from sklearn.linear_model import LogisticRegression\n",
    "from sklearn.model_selection import cross_validate\n",
    "from sklearn.model_selection import cross_val_predict\n",
    "from sklearn.ensemble import RandomForestClassifier\n",
    "\n",
    "%matplotlib inline\n",
    "\n",
    "# Reading data from input file\n",
    "df = pd.read_csv(\"Appointment-No-Show-Data.csv\")\n",
    "print(df.dtypes)\n",
    "print(\"------------------------------------------\")\n",
    "df.shape"
   ]
  },
  {
   "cell_type": "code",
   "execution_count": null,
   "metadata": {},
   "outputs": [],
   "source": [
    "# Renaming No-Show column entity\n",
    "\n",
    "df = df.rename(columns={\"No-show\": \"no_show\"})\n",
    "df.no_show = df.no_show.map({ 'No': 0, 'Yes': 1 })\n",
    "df['ScheduledDay'] = pd.to_datetime(df['ScheduledDay']).dt.date.astype('datetime64[ns]')\n",
    "df[\"AppointmentDay\"] = pd.to_datetime(df[\"AppointmentDay\"])\n",
    "df[\"WeekdayScheduled\"] = df[\"ScheduledDay\"].dt.weekday\n",
    "df['awaiting_time_days'] = (df.AppointmentDay - df.ScheduledDay).dt.days\n",
    "df = df[(df.awaiting_time_days >= 0)]"
   ]
  },
  {
   "cell_type": "code",
   "execution_count": null,
   "metadata": {},
   "outputs": [],
   "source": [
    "df = df[df[\"Age\"] <100]\n",
    "df = df[df[\"Age\"] > -1] \n",
    "\n",
    "# Question 1\n",
    "no_show = len(df.query('no_show == \"1\"'))\n",
    "no_show_ratio = int(round(no_show/len(df)*100))\n",
    "\n",
    "print(\"Total proportion of patients with no show:\",no_show_ratio)\n"
   ]
  },
  {
   "cell_type": "code",
   "execution_count": null,
   "metadata": {},
   "outputs": [],
   "source": [
    "# Performing dummies operation\n",
    "df[['Handcap']] = df[['Handcap']].astype('str')\n",
    "df_cat = pd.get_dummies(df[['Gender'] + ['Handcap']],drop_first = True)\n",
    "cols_all_cat = list(df_cat.columns)\n",
    "print(df_cat.head())\n",
    "df = pd.concat([df,df_cat], axis = 1)\n",
    "\n",
    "cols_input = ['Scholarship','Hipertension', 'Diabetes', 'Alcoholism',\n",
    "       'SMS_received', 'Age', 'awaiting_time_days', 'WeekdayScheduled','no_show']\n",
    "\n",
    "df_final = df[cols_input+cols_all_cat]"
   ]
  },
  {
   "cell_type": "code",
   "execution_count": null,
   "metadata": {},
   "outputs": [],
   "source": [
    "# Train and test data \n",
    "\n",
    "df_final = df_final.sample(n = len(df_final), random_state = 20)\n",
    "df_final = df_final.reset_index(drop = True)\n",
    "\n",
    "df_test=df_final.sample(frac=0.20,random_state=20)\n",
    "df_train = df_final.drop(df_test.index)"
   ]
  },
  {
   "cell_type": "code",
   "execution_count": null,
   "metadata": {},
   "outputs": [],
   "source": [
    "def calc_prevalence(y_actual):\n",
    "    return (sum(y_actual)/len(y_actual))\n",
    "\n",
    "print('Train prevalence(n = %d):%.3f'%(len(df_train), calc_prevalence(df_train.no_show.values)))\n",
    "print('Test prevalence(n = %d):%.3f'%(len(df_test),calc_prevalence(df_test.no_show.values)))"
   ]
  },
  {
   "cell_type": "code",
   "execution_count": null,
   "metadata": {},
   "outputs": [],
   "source": [
    "# Balancing the data\n",
    "\n",
    "rows_pos = df_train.no_show == 1\n",
    "df_train_pos = df_train.loc[rows_pos]\n",
    "df_train_neg = df_train.loc[~rows_pos]\n",
    "\n",
    "n = np.min([len(df_train_pos), len(df_train_neg)])\n",
    "\n",
    "# merge the balanced data\n",
    "df_train = pd.concat([df_train_pos.sample(n = n, random_state = 20), \n",
    "                      df_train_neg.sample(n = n, random_state = 20)],axis = 0, \n",
    "                     ignore_index = True)\n",
    "\n",
    "# shuffle the order of training samples \n",
    "df_train = df_train.sample(n = len(df_train), random_state = 20).reset_index(drop = True)\n",
    "\n",
    "print('Train balanced prevalence(n = %d):%.3f'%(len(df_train), calc_prevalence(df_train.no_show.values)))"
   ]
  },
  {
   "cell_type": "code",
   "execution_count": null,
   "metadata": {},
   "outputs": [],
   "source": [
    "# \n",
    "cols_input = ['Scholarship','Hipertension', 'Diabetes', 'Alcoholism',\n",
    "       'SMS_received', 'Age', 'awaiting_time_days', 'WeekdayScheduled'] + cols_all_cat\n",
    "\n",
    "\n",
    "X_train = df_train[cols_input].values\n",
    "y_train = df_train['no_show'].values\n",
    "\n",
    "X_test = df_test[cols_input].values\n",
    "y_test = df_test['no_show'].values\n",
    "\n",
    "print('Training shapes:',X_train.shape, y_train.shape)\n",
    "print('Testing shapes:',X_test.shape, y_test.shape)\n"
   ]
  }
 ],
 "metadata": {
  "kernelspec": {
   "display_name": "Python 3",
   "language": "python",
   "name": "python3"
  },
  "language_info": {
   "codemirror_mode": {
    "name": "ipython",
    "version": 3
   },
   "file_extension": ".py",
   "mimetype": "text/x-python",
   "name": "python",
   "nbconvert_exporter": "python",
   "pygments_lexer": "ipython3",
   "version": "3.7.1"
  }
 },
 "nbformat": 4,
 "nbformat_minor": 2
}
