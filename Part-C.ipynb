{
 "cells": [
  {
   "cell_type": "code",
   "execution_count": 1,
   "metadata": {},
   "outputs": [],
   "source": [
    "import numpy as np\n",
    "import pandas as pd \n",
    "import sklearn\n",
    "from datetime import datetime\n",
    "import matplotlib.pyplot as plt\n",
    "import seaborn as sns\n",
    "import warnings\n",
    "warnings.filterwarnings('ignore')\n",
    "from sklearn.metrics import roc_auc_score, accuracy_score, precision_score, recall_score, f1_score, roc_curve \n",
    "from sklearn.linear_model import LogisticRegression\n",
    "from sklearn.model_selection import cross_validate\n",
    "from sklearn.model_selection import cross_val_predict\n",
    "from sklearn.ensemble import RandomForestClassifier\n",
    "\n",
    "%matplotlib inline"
   ]
  },
  {
   "cell_type": "code",
   "execution_count": 2,
   "metadata": {},
   "outputs": [
    {
     "name": "stdout",
     "output_type": "stream",
     "text": [
      "PatientId         float64\n",
      "AppointmentID       int64\n",
      "Gender             object\n",
      "ScheduledDay       object\n",
      "AppointmentDay     object\n",
      "Age                 int64\n",
      "Neighbourhood      object\n",
      "Scholarship         int64\n",
      "Hipertension        int64\n",
      "Diabetes            int64\n",
      "Alcoholism          int64\n",
      "Handcap             int64\n",
      "SMS_received        int64\n",
      "No-show            object\n",
      "dtype: object\n",
      "------------------------------------------\n"
     ]
    },
    {
     "data": {
      "text/plain": [
       "(110527, 14)"
      ]
     },
     "execution_count": 2,
     "metadata": {},
     "output_type": "execute_result"
    }
   ],
   "source": [
    "# Reading data from input file\n",
    "df = pd.read_csv(\"Appointment-No-Show-Data.csv\")\n",
    "print(df.dtypes)\n",
    "print(\"------------------------------------------\")\n",
    "df.shape"
   ]
  },
  {
   "cell_type": "code",
   "execution_count": 3,
   "metadata": {},
   "outputs": [],
   "source": [
    "# Renaming No-Show column entity\n",
    "\n",
    "df = df.rename(columns={\"No-show\": \"no_show\"})\n",
    "df.no_show = df.no_show.map({ 'No': 0, 'Yes': 1 })\n",
    "df['ScheduledDay'] = pd.to_datetime(df['ScheduledDay']).dt.date.astype('datetime64[ns]')\n",
    "df[\"AppointmentDay\"] = pd.to_datetime(df[\"AppointmentDay\"])\n",
    "df[\"WeekdayScheduled\"] = df[\"ScheduledDay\"].dt.weekday\n",
    "df['awaiting_time_days'] = (df.AppointmentDay - df.ScheduledDay).dt.days\n",
    "df = df[(df.awaiting_time_days >= 0)]"
   ]
  },
  {
   "cell_type": "code",
   "execution_count": 4,
   "metadata": {},
   "outputs": [
    {
     "name": "stdout",
     "output_type": "stream",
     "text": [
      "Total proportion of patients with no show: 20\n"
     ]
    }
   ],
   "source": [
    "df = df[df[\"Age\"] <100]\n",
    "df = df[df[\"Age\"] > -1] \n",
    "\n",
    "# Question 1\n",
    "no_show = len(df.query('no_show == \"1\"'))\n",
    "no_show_ratio = int(round(no_show/len(df)*100))\n",
    "\n",
    "print(\"Total proportion of patients with no show:\",no_show_ratio)\n"
   ]
  },
  {
   "cell_type": "code",
   "execution_count": 5,
   "metadata": {},
   "outputs": [
    {
     "name": "stdout",
     "output_type": "stream",
     "text": [
      "   Gender_M  Handcap_1  Handcap_2  Handcap_3  Handcap_4\n",
      "0         0          0          0          0          0\n",
      "1         1          0          0          0          0\n",
      "2         0          0          0          0          0\n",
      "3         0          0          0          0          0\n",
      "4         0          0          0          0          0\n"
     ]
    }
   ],
   "source": [
    "# Performing dummies operation\n",
    "df[['Handcap']] = df[['Handcap']].astype('str')\n",
    "df_cat = pd.get_dummies(df[['Gender'] + ['Handcap']],drop_first = True)\n",
    "cols_all_cat = list(df_cat.columns)\n",
    "print(df_cat.head())\n",
    "df = pd.concat([df,df_cat], axis = 1)\n",
    "\n",
    "cols_input = ['Scholarship','Hipertension', 'Diabetes', 'Alcoholism',\n",
    "       'SMS_received', 'Age', 'awaiting_time_days', 'WeekdayScheduled','no_show']"
   ]
  },
  {
   "cell_type": "code",
   "execution_count": 6,
   "metadata": {},
   "outputs": [],
   "source": [
    "df_final = df[cols_input+cols_all_cat]"
   ]
  },
  {
   "cell_type": "code",
   "execution_count": 7,
   "metadata": {},
   "outputs": [],
   "source": [
    "# Train and test data \n",
    "\n",
    "df_final = df_final.sample(n = len(df_final), random_state = 20)\n",
    "df_final = df_final.reset_index(drop = True)\n",
    "\n",
    "df_test=df_final.sample(frac=0.20,random_state=20)\n",
    "df_train = df_final.drop(df_test.index)"
   ]
  },
  {
   "cell_type": "code",
   "execution_count": 8,
   "metadata": {},
   "outputs": [
    {
     "name": "stdout",
     "output_type": "stream",
     "text": [
      "Train prevalence(n = 88408):0.201\n",
      "Test prevalence(n = 22102):0.205\n"
     ]
    }
   ],
   "source": [
    "def calc_prevalence(y_actual):\n",
    "    return (sum(y_actual)/len(y_actual))\n",
    "\n",
    "print('Train prevalence(n = %d):%.3f'%(len(df_train), calc_prevalence(df_train.no_show.values)))\n",
    "print('Test prevalence(n = %d):%.3f'%(len(df_test),calc_prevalence(df_test.no_show.values)))"
   ]
  },
  {
   "cell_type": "code",
   "execution_count": 9,
   "metadata": {},
   "outputs": [
    {
     "name": "stdout",
     "output_type": "stream",
     "text": [
      "Train balanced prevalence(n = 35566):0.500\n"
     ]
    }
   ],
   "source": [
    "# Balancing the data\n",
    "\n",
    "rows_pos = df_train.no_show == 1\n",
    "df_train_pos = df_train.loc[rows_pos]\n",
    "df_train_neg = df_train.loc[~rows_pos]\n",
    "\n",
    "n = np.min([len(df_train_pos), len(df_train_neg)])\n",
    "\n",
    "# merge the balanced data\n",
    "df_train = pd.concat([df_train_pos.sample(n = n, random_state = 20), \n",
    "                      df_train_neg.sample(n = n, random_state = 20)],axis = 0, \n",
    "                     ignore_index = True)\n",
    "\n",
    "# shuffle the order of training samples \n",
    "df_train = df_train.sample(n = len(df_train), random_state = 20).reset_index(drop = True)\n",
    "\n",
    "print('Train balanced prevalence(n = %d):%.3f'%(len(df_train), calc_prevalence(df_train.no_show.values)))"
   ]
  },
  {
   "cell_type": "code",
   "execution_count": 10,
   "metadata": {},
   "outputs": [
    {
     "name": "stdout",
     "output_type": "stream",
     "text": [
      "Training shapes: (35566, 13) (35566,)\n",
      "Testing shapes: (22102, 13) (22102,)\n"
     ]
    }
   ],
   "source": [
    "# \n",
    "cols_input = ['Scholarship','Hipertension', 'Diabetes', 'Alcoholism',\n",
    "       'SMS_received', 'Age', 'awaiting_time_days', 'WeekdayScheduled'] + cols_all_cat\n",
    "\n",
    "\n",
    "X_train = df_train[cols_input].values\n",
    "y_train = df_train['no_show'].values\n",
    "\n",
    "X_test = df_test[cols_input].values\n",
    "y_test = df_test['no_show'].values\n",
    "\n",
    "print('Training shapes:',X_train.shape, y_train.shape)\n",
    "print('Testing shapes:',X_test.shape, y_test.shape)\n"
   ]
  },
  {
   "cell_type": "code",
   "execution_count": 11,
   "metadata": {},
   "outputs": [],
   "source": [
    "# Metrics selection\n",
    "def calc_specificity(y_actual, y_pred, thresh):\n",
    "    return sum((y_pred < thresh) & (y_actual == 0)) /sum(y_actual ==0)\n",
    "\n",
    "def print_report(y_actual, y_pred, thresh):\n",
    "    auc = roc_auc_score(y_actual, y_pred)\n",
    "    accuracy = accuracy_score(y_actual, (y_pred > thresh))\n",
    "    recall = recall_score(y_actual, (y_pred > thresh))\n",
    "    precision = precision_score(y_actual, (y_pred > thresh))\n",
    "    specificity = calc_specificity(y_actual, y_pred, thresh)\n",
    "    f1score = f1_score(y_actual,y_pred,thresh)\n",
    "    print('AUC:%.3f'%auc)\n",
    "    print('accuracy:%.3f'%accuracy)\n",
    "    print('recall:%.3f'%recall)\n",
    "    print('precision:%.3f'%precision)\n",
    "    print('specificity:%.3f'%specificity)\n",
    "    print('prevalence:%.3f'%calc_prevalence(y_actual))\n",
    "    print('F1_score:%.3f'%f1score)\n",
    "    print(' ')\n",
    "    return auc, accuracy, recall, precision, specificity \n"
   ]
  },
  {
   "cell_type": "code",
   "execution_count": 12,
   "metadata": {},
   "outputs": [
    {
     "name": "stdout",
     "output_type": "stream",
     "text": [
      "[1 0 0 ... 1 0 0]\n",
      "Logistic Regression - 5 folds\n",
      "Training:\n",
      "AUC:0.628\n",
      "accuracy:0.628\n",
      "recall:0.558\n",
      "precision:0.649\n",
      "specificity:0.698\n",
      "prevalence:0.500\n",
      "F1_score:0.600\n",
      " \n"
     ]
    }
   ],
   "source": [
    "# Logistic Regression\n",
    "lr = LogisticRegression(random_state = 20)\n",
    "y_train_preds = cross_val_predict(lr, X_train, y_train, cv=5)\n",
    "\n",
    "print(y_train_preds)\n",
    "\n",
    "print('Logistic Regression - 5 folds')\n",
    "print('Training:')\n",
    "lr_train_auc, lr_train_accuracy, lr_train_recall, \\\n",
    "    lr_train_precision, lr_train_specificity = print_report(y_train,y_train_preds, .5)\n"
   ]
  },
  {
   "cell_type": "code",
   "execution_count": 13,
   "metadata": {},
   "outputs": [],
   "source": [
    "# Comments - The Logistic regression model with 5-folds CV is better than the naive model which predicts outcome \n",
    "# as show up because we have a model accuracy of 62% which is greater than 50%(Tossing a coin).\n"
   ]
  },
  {
   "cell_type": "code",
   "execution_count": 13,
   "metadata": {},
   "outputs": [
    {
     "data": {
      "image/png": "[encoded data removed]",
      "text/plain": [
       "<Figure size 432x288 with 1 Axes>"
      ]
     },
     "metadata": {
      "needs_background": "light"
     },
     "output_type": "display_data"
    }
   ],
   "source": [
    "fpr_train, tpr_train, thresholds_train = roc_curve(y_train, y_train_preds)\n",
    "auc_train = roc_auc_score(y_train, y_train_preds)\n",
    "\n",
    "# lr=LogisticRegression(random_state = 20)\n",
    "a = lr.fit(X_train, y_train)\n",
    "y_test_preds = lr.predict(X_test)\n",
    "\n",
    "fpr_test, tpr_test, thresholds_test = roc_curve(y_test, y_test_preds)\n",
    "auc_test = roc_auc_score(y_test, y_test_preds)\n",
    "\n",
    "plt.plot(fpr_train, tpr_train, 'r-',label ='Train AUC:%.2f'%auc_train)\n",
    "plt.plot(fpr_test, tpr_test, 'g-',label ='Test AUC:%.2f'%auc_test)\n",
    "plt.plot([0,1],[0,1],'k--')\n",
    "plt.xlabel('False Positive Rate')\n",
    "plt.ylabel('True Positive Rate')\n",
    "plt.legend()\n",
    "plt.show()"
   ]
  },
  {
   "cell_type": "code",
   "execution_count": null,
   "metadata": {},
   "outputs": [],
   "source": [
    "# The results obtained show a marginal AUC curve with 63% accuracy. Hence the model is not that great. \n",
    "# Still the model can be improved is we have additional data."
   ]
  },
  {
   "cell_type": "code",
   "execution_count": null,
   "metadata": {},
   "outputs": [],
   "source": [
    "# Details needed for better prediction\n",
    "# Schedule of patients on date of arrival. We need to have patients schedule in advance to make prediction of no-show\n",
    "# Receiving the message - Patients should acknowledge the message received by them. \n",
    "# Demographical and Climatic conditions on a given day \n",
    "# We could do the same analysis with over sampling to see the performance improvement"
   ]
  },
  {
   "cell_type": "code",
   "execution_count": null,
   "metadata": {},
   "outputs": [],
   "source": []
  }
 ],
 "metadata": {
  "kernelspec": {
   "display_name": "Python 3",
   "language": "python",
   "name": "python3"
  },
  "language_info": {
   "codemirror_mode": {
    "name": "ipython",
    "version": 3
   },
   "file_extension": ".py",
   "mimetype": "text/x-python",
   "name": "python",
   "nbconvert_exporter": "python",
   "pygments_lexer": "ipython3",
   "version": "3.7.1"
  }
 },
 "nbformat": 4,
 "nbformat_minor": 2
}
